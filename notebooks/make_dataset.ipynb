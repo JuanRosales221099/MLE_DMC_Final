{
 "cells": [
  {
   "cell_type": "code",
   "execution_count": 16,
   "metadata": {},
   "outputs": [],
   "source": [
    "# Script de Preparación de Datos\n",
    "###################################\n",
    "\n",
    "import pandas as pd\n",
    "import numpy as np\n",
    "import os\n",
    "\n",
    "from sklearn.preprocessing import LabelEncoder\n",
    "from sklearn.model_selection import train_test_split"
   ]
  },
  {
   "cell_type": "code",
   "execution_count": 4,
   "metadata": {},
   "outputs": [],
   "source": [
    "# Leemos los archivos csv\n",
    "def read_file_csv(filename):\n",
    "    df = pd.read_csv(os.path.join('../data/raw/', filename))\n",
    "    print(filename, ' cargado correctamente')\n",
    "    return df"
   ]
  },
  {
   "cell_type": "code",
   "execution_count": 20,
   "metadata": {},
   "outputs": [],
   "source": [
    "def detect_outliers(df, feature):\n",
    "        Q1  = df[feature].quantile(0.25)\n",
    "        Q3  = df[feature].quantile(0.75)\n",
    "        IQR = Q3 - Q1\n",
    "        \n",
    "        upper_limit = Q3 + 1.5 * IQR\n",
    "        lower_limit = Q1 - 1.5 * IQR\n",
    "        return upper_limit, lower_limit\n",
    "\n",
    "# Realizamos la transformación de datos\n",
    "def data_preparation(df, flag_test):\n",
    "\n",
    "    # Missing Value Treatment\n",
    "    df['Outlet_Size'] = df.Outlet_Size.fillna(df.Outlet_Size.dropna().mode()[0])\n",
    "    df['Item_Weight'] = df.Item_Weight.fillna(df.Item_Weight.mean())\n",
    "\n",
    "    # Outliers\n",
    "    if(flag_test != True):\n",
    "\n",
    "        upper, lower = detect_outliers(df, \"Item_Visibility\")\n",
    "        df = df[(df['Item_Visibility'] > lower) & (df['Item_Visibility'] < upper)]\n",
    "\n",
    "        upper, lower = detect_outliers(df, \"Item_Outlet_Sales\")\n",
    "        df = df[(df['Item_Outlet_Sales'] > lower) & (df['Item_Outlet_Sales'] < upper)]\n",
    "\n",
    "    # Let's correct the errors in the Item_Fat_Content column\n",
    "\n",
    "    df['Item_Fat_Content'] = df['Item_Fat_Content'].map({'Low Fat' :'Low Fat',\n",
    "                                                           'low fat' :\"Low Fat\",\n",
    "                                                           'LF'      :\"Low Fat\",\n",
    "                                                           'Regular' :'Regular',\n",
    "                                                           'reg'     :\"Regular\"\n",
    "                                                          })\n",
    "    \n",
    "\n",
    "    # getting the amount of established years in new column and delete old column\n",
    "    df['Outlet_Age'] = 2023 - df['Outlet_Establishment_Year']\n",
    "    del df['Outlet_Establishment_Year']\n",
    "\n",
    "\n",
    "    # Encoding Categorical Variables\n",
    "\n",
    "    # 1. Label Encoding\n",
    "\n",
    "    df['Outlet_Size'] = df['Outlet_Size'].map({'Small'  : 1,\n",
    "                                                 'Medium' : 2,\n",
    "                                                 'High'   : 3\n",
    "                                                 }).astype(int)\n",
    "    \n",
    "\n",
    "    df['Outlet_Location_Type'] = df['Outlet_Location_Type'].str[-1:].astype(int)\n",
    "\n",
    "    df['Item_Identifier_Categories'] = df['Item_Identifier'].str[0:2]\n",
    "\n",
    "\n",
    "    encoder = LabelEncoder()\n",
    "    ordinal_features = ['Item_Fat_Content', 'Outlet_Type', 'Outlet_Location_Type']\n",
    "\n",
    "    for feature in ordinal_features:\n",
    "        df[feature] = encoder.fit_transform(df[feature])\n",
    "\n",
    "    #2. One Hot Encoding\n",
    "\n",
    "    df = pd.get_dummies(df, columns=['Item_Type', 'Item_Identifier_Categories', 'Outlet_Identifier'], drop_first=True)\n",
    "\n",
    "    # Let's drop useless columns    \n",
    "    df.drop(labels=['Item_Identifier'], axis=1, inplace=True)\n",
    "    \n",
    "    return df \n",
    "\n",
    "# Exportamos la matriz de datos con las columnas seleccionadas\n",
    "def data_exporting(df, features, filename):\n",
    "    dfp = df[features]\n",
    "    dfp.to_csv(os.path.join('../data/processed/', filename))\n",
    "    print(filename, 'exportado correctamente en la carpeta processed')\n"
   ]
  },
  {
   "cell_type": "code",
   "execution_count": 21,
   "metadata": {},
   "outputs": [
    {
     "name": "stdout",
     "output_type": "stream",
     "text": [
      "train.csv  cargado correctamente\n",
      "test.csv  cargado correctamente\n",
      "df_train.csv exportado correctamente en la carpeta processed\n",
      "df_test.csv exportado correctamente en la carpeta processed\n",
      "df_scoring.csv exportado correctamente en la carpeta processed\n"
     ]
    }
   ],
   "source": [
    "# Generamos las matrices de datos que se necesitan para la implementación\n",
    "#def main():\n",
    "\n",
    "df_data = read_file_csv(\"train.csv\")\n",
    "df_scoring = read_file_csv(\"test.csv\")\n",
    "\n",
    "df_data_train_test = data_preparation(df_data, False)\n",
    "df_scoring = data_preparation(df_scoring, True)\n",
    "\n",
    "df_train, df_val = train_test_split(df_data_train_test, test_size=0.2, random_state=0)\n",
    "\n",
    "\n",
    "#Matriz de entrenamiento\n",
    "data_exporting(df_train, df_train.columns, \"df_train.csv\")\n",
    "#Matriz de Validación\n",
    "data_exporting(df_val, df_val.columns, \"df_test.csv\")\n",
    "#Matriz de entrenamiento\n",
    "data_exporting(df_scoring, df_scoring.columns, \"df_scoring.csv\")\n"
   ]
  },
  {
   "cell_type": "code",
   "execution_count": null,
   "metadata": {},
   "outputs": [],
   "source": []
  }
 ],
 "metadata": {
  "kernelspec": {
   "display_name": "Python 3",
   "language": "python",
   "name": "python3"
  },
  "language_info": {
   "codemirror_mode": {
    "name": "ipython",
    "version": 3
   },
   "file_extension": ".py",
   "mimetype": "text/x-python",
   "name": "python",
   "nbconvert_exporter": "python",
   "pygments_lexer": "ipython3",
   "version": "3.12.2"
  }
 },
 "nbformat": 4,
 "nbformat_minor": 2
}
